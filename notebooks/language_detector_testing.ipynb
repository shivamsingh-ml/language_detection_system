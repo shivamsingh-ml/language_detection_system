{
 "cells": [
  {
   "cell_type": "code",
   "execution_count": 1,
   "metadata": {},
   "outputs": [],
   "source": [
    "import os\n",
    "import sys\n",
    "sys.path.append(os.path.abspath(os.path.join('..')))\n",
    "from language_detector import LanguageIdentifier"
   ]
  },
  {
   "cell_type": "code",
   "execution_count": 2,
   "metadata": {},
   "outputs": [],
   "source": [
    "languages = ['en', 'de', 'fr', 'it', 'es']"
   ]
  },
  {
   "cell_type": "code",
   "execution_count": 3,
   "metadata": {},
   "outputs": [
    {
     "name": "stdout",
     "output_type": "stream",
     "text": [
      "En text length: 9294\n",
      "De text length: 10701\n",
      "Fr text length: 10724\n",
      "It text length: 10017\n",
      "Es text length: 10308\n"
     ]
    }
   ],
   "source": [
    "for lang in languages:\n",
    "    file_path = os.path.join('..', 'languages', f'{lang}.txt')\n",
    "    with open(file_path, 'r', encoding='utf-8') as f:\n",
    "        text = f.read()\n",
    "    print(f'{lang.capitalize()} text length:', len(text))"
   ]
  },
  {
   "cell_type": "code",
   "execution_count": 4,
   "metadata": {},
   "outputs": [
    {
     "name": "stdout",
     "output_type": "stream",
     "text": [
      "Sample En Text ->  Germany, officially known as the Federal Republic of Germany, stands as a beacon of cultural richnes\n",
      "Sample De Text ->  Deutschland, offiziell als Bundesrepublik Deutschland bekannt, ist ein Leuchtturm des kulturellen Re\n",
      "Sample Fr Text ->  L'Allemagne, officiellement connue sous le nom de République fédérale d'Allemagne, est un symbole de\n",
      "Sample It Text ->  La Germania, ufficialmente nota come Repubblica Federale Tedesca, è un faro di ricchezza culturale, \n",
      "Sample Es Text ->  Alemania, oficialmente conocida como la República Federal de Alemania, se erige como un faro de riqu\n"
     ]
    }
   ],
   "source": [
    "for lang in languages:\n",
    "    file_path = os.path.join('..', 'languages', f'{lang}.txt')\n",
    "    with open(file_path, 'r', encoding='utf-8') as f:\n",
    "        text = f.read()\n",
    "    print(f'Sample {lang.capitalize()} Text -> ', text[:100])"
   ]
  },
  {
   "cell_type": "code",
   "execution_count": 5,
   "metadata": {},
   "outputs": [],
   "source": [
    "language_identifier = LanguageIdentifier(n=3, top_k=400, penalty=400)"
   ]
  },
  {
   "cell_type": "code",
   "execution_count": 6,
   "metadata": {},
   "outputs": [],
   "source": [
    "for lang in languages:\n",
    "    file_path = os.path.join('..', 'languages', f'{lang}.txt')\n",
    "    with open(file_path, 'r', encoding='utf-8') as f:\n",
    "        text = f.read()\n",
    "        language_identifier.add_language(lang, text)"
   ]
  },
  {
   "cell_type": "code",
   "execution_count": 8,
   "metadata": {},
   "outputs": [
    {
     "name": "stdout",
     "output_type": "stream",
     "text": [
      "Identified language: it\n",
      "Distance scores: {'en': 25745, 'de': 29567, 'fr': 26014, 'it': 17538, 'es': 22802}\n"
     ]
    }
   ],
   "source": [
    "test_text = \"La Germania, ufficialmente nota come Repubblica Federale Tedesca, è un faro di ricchezza culturale\"\n",
    "language, distances = language_identifier.identify_language(test_text)\n",
    "\n",
    "print(\"Identified language:\", language)\n",
    "print(\"Distance scores:\", distances)"
   ]
  }
 ],
 "metadata": {
  "kernelspec": {
   "display_name": ".venv",
   "language": "python",
   "name": "python3"
  },
  "language_info": {
   "codemirror_mode": {
    "name": "ipython",
    "version": 3
   },
   "file_extension": ".py",
   "mimetype": "text/x-python",
   "name": "python",
   "nbconvert_exporter": "python",
   "pygments_lexer": "ipython3",
   "version": "3.12.4"
  }
 },
 "nbformat": 4,
 "nbformat_minor": 2
}
